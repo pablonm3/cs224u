{
 "cells": [
  {
   "cell_type": "code",
   "execution_count": 1,
   "metadata": {},
   "outputs": [
    {
     "data": {
      "application/javascript": [
       "IPython.notebook.set_autosave_interval(10000)"
      ]
     },
     "metadata": {},
     "output_type": "display_data"
    },
    {
     "name": "stdout",
     "output_type": "stream",
     "text": [
      "Autosaving every 10 seconds\n"
     ]
    }
   ],
   "source": [
    "from transformers import pipeline, AutoModel, AutoTokenizer, BertTokenizer, BertForQuestionAnswering\n",
    "import transformers\n",
    "import torch\n",
    "import pandas as pd\n",
    "%autosave 10"
   ]
  },
  {
   "cell_type": "code",
   "execution_count": 2,
   "metadata": {
    "scrolled": true
   },
   "outputs": [],
   "source": [
    "DATA_DIRECTORY = \"/home/xcs224u_student/notebooks/cs224u/data\""
   ]
  },
  {
   "cell_type": "markdown",
   "metadata": {},
   "source": [
    "# baselines models"
   ]
  },
  {
   "cell_type": "markdown",
   "metadata": {},
   "source": [
    "## BERT model trained on squad 2"
   ]
  },
  {
   "cell_type": "code",
   "execution_count": 3,
   "metadata": {},
   "outputs": [],
   "source": [
    "#This model is BERT base uncased trained on SQuAD v2 \n",
    "# https://huggingface.co/twmkn9/bert-base-uncased-squad2\n",
    "BERT_MODEL = \"twmkn9/bert-base-uncased-squad2\"\n",
    "qa_bert_pipeline = pipeline('question-answering', model=BERT_MODEL, tokenizer=BERT_MODEL)\n"
   ]
  },
  {
   "cell_type": "code",
   "execution_count": 4,
   "metadata": {},
   "outputs": [
    {
     "data": {
      "text/plain": [
       "{'score': 0.9665267544103031, 'start': 0, 'end': 6, 'answer': 'Normans'}"
      ]
     },
     "execution_count": 4,
     "metadata": {},
     "output_type": "execute_result"
    }
   ],
   "source": [
    "qa_bert_pipeline(context=\"Normans\", question=\"Who gave their name to Normandy in the 1000's and 1100's\")\n",
    "\n"
   ]
  },
  {
   "cell_type": "code",
   "execution_count": 5,
   "metadata": {},
   "outputs": [
    {
     "data": {
      "text/plain": [
       "{'score': 0.9665267544103031, 'start': 0, 'end': 6, 'answer': 'Normans'}"
      ]
     },
     "execution_count": 5,
     "metadata": {},
     "output_type": "execute_result"
    }
   ],
   "source": [
    "qa_bert_pipeline(context=\"Normans\", question=\"Who gave their name to Normandy in the 1000's and 1100's\")\n",
    "\n"
   ]
  },
  {
   "cell_type": "markdown",
   "metadata": {},
   "source": [
    "## Baseline model using SciBERT - pretrained with SQUAD V2"
   ]
  },
  {
   "cell_type": "code",
   "execution_count": 6,
   "metadata": {},
   "outputs": [],
   "source": [
    "# allenai/scibert_scivocab_uncased: scibert model fine-tuned on SQuAD V2 \n",
    "# https://huggingface.co/ktrapeznikov/scibert_scivocab_uncased_squad_v2\n",
    "SCIBERT_MODEL = \"ktrapeznikov/scibert_scivocab_uncased_squad_v2\"\n",
    "qa_scibert_pipeline = pipeline('question-answering', model=SCIBERT_MODEL, tokenizer=SCIBERT_MODEL)\n"
   ]
  },
  {
   "cell_type": "markdown",
   "metadata": {},
   "source": [
    "## Baseline model using BIOBERT - pretrained with SQUAD V2"
   ]
  },
  {
   "cell_type": "code",
   "execution_count": 7,
   "metadata": {},
   "outputs": [],
   "source": [
    "# biobert model fine-tuned on SQuAD V2 \n",
    "# https://huggingface.co/ktrapeznikov/biobert_v1.1_pubmed_squad_v2\n",
    "BIOBERT_MODEL = \"ktrapeznikov/biobert_v1.1_pubmed_squad_v2\"\n",
    "qa_biobert_pipeline = pipeline('question-answering', model=BIOBERT_MODEL, tokenizer=BIOBERT_MODEL)\n"
   ]
  },
  {
   "cell_type": "markdown",
   "metadata": {},
   "source": [
    "# Qualitaive comparisons on covid-19"
   ]
  },
  {
   "cell_type": "code",
   "execution_count": 8,
   "metadata": {},
   "outputs": [],
   "source": [
    "CONVID_ARTICLE_EASY=\"\"\"Coronavirus disease 2019 (COVID-19) is an infectious disease caused by severe acute respiratory syndrome coronavirus 2 (SARS-CoV-2).\n",
    "The disease was first identified in December 2019 in Wuhan, the capital of China's Hubei province, and has since spread globally, resulting in the ongoing 2019–20 coronavirus pandemic.\n",
    "Common symptoms include fever, cough and shortness of breath.[5] Other symptoms may include fatigue, muscle pain, diarrhoea, sore throat, loss of smell and abdominal pain.[5][11][12] The time from exposure to onset of symptoms is typically around five days, but may range from two to fourteen days.[5][13] While the majority of cases result in mild symptoms, some progress to viral pneumonia and multi-organ failure.\n",
    "As of 10 April 2020, more than 1.67 million[7] cases have been reported in more than 200 countries and territories,[15] resulting in more than 101,000 deaths.[7] More than 372,000 people have recovered. The virus is mainly spread between people during close contact,[a] often via small droplets produced during coughing,[b] sneezing, or talking.\n",
    "While these droplets are produced when breathing out,\n",
    "they usually fall to the ground or surfaces rather than being infectious over large distances.[6][19][20] People may also become infected by touching a contaminated surface and then their face.\n",
    "The virus can survive on surfaces for up to 72 hours.\n",
    "Coronavirus is most contagious during the first three days after onset of symptoms, although spread may be possible before symptoms\n",
    "appear and in later stages of the disease.The standard method of diagnosis is by real-time reverse transcription polymerase chain reaction (rRT-PCR) from a nasopharyngeal swab.[23] The infection can also be diagnosed from a combination of symptoms, risk factors and a chest CT scan showing features of pneumonia.Recommended measures to prevent infection include frequent hand washing, maintaining physical distance from others (especially from those with symptoms), covering coughs and sneezes with a tissue or inner elbow and keeping unwashed hands away from the face.\n",
    "The use of masks is recommended for those who suspect they have the virus and their caregivers.[28] Recommendations for mask use by the general public vary, with some authorities recommending against their use, some recommending their use and others requiring their use.\n",
    "Currently, there is no vaccine or specific antiviral treatment for COVID-19.\n",
    "Management involves treatment of symptoms, supportive care, isolation and experimental measures.The World Health Organization (WHO) declared the 2019–20 coronavirus outbreak a Public Health Emergency of International Concern (PHEIC)[33][34] on 30 January 2020 and a pandemic on 11 March 2020.[10] Local transmission of the disease has been recorded in many countries across all six WHO regions.[35]\"\"\"\n",
    "CONVID_ARTICLE_MEDIUM1=\"\"\"A familial cluster of 5 patients with COVID-19\n",
    "pneumonia in Anyang, China, had contact before their symptom onset with an asymptomatic family member who had\n",
    "traveled from the epidemic center of Wuhan. The sequence\n",
    "of events suggests that the coronavirus may have been transmitted by the asymptomatic carrier. The incubation period\n",
    "for patient 1 was 19 days, which is long but within the\n",
    "reported range of 0 to 24 days.4 Her first RT-PCR result was\n",
    "negative; false-negative results have been observed related to\n",
    "the quality of the kit, the collected sample, or performance of\n",
    "the test. RT-PCR has been widely deployed in diagnostic\n",
    "virology and has yielded few false-positive outcomes.5 Thus,\n",
    "her second RT-PCR result was unlikely to have been a falsepositive and was used to define infection with the coronavirus that causes COVID-19.\n",
    "One previous study reported an asymptomatic 10-yearold boy with COVID-19 infection, but he had abnormalities\n",
    "on chest CT.6 If the findings in this report of presumed transmission by an asymptomatic carrier are replicated, the prevention of COVID-19 infection would prove challenging.\n",
    "The mechanism by which asymptomatic carriers could acquire and transmit the coronavirus that causes COVID-19\n",
    "requires further study\"\"\"\n",
    "\n"
   ]
  },
  {
   "cell_type": "markdown",
   "metadata": {},
   "source": [
    "## BERT SQUAD2"
   ]
  },
  {
   "cell_type": "code",
   "execution_count": 9,
   "metadata": {},
   "outputs": [
    {
     "data": {
      "text/plain": [
       "{'score': 0.5013612845677784,\n",
       " 'start': 342,\n",
       " 'end': 382,\n",
       " 'answer': 'fever, cough and shortness of breath.[5]'}"
      ]
     },
     "execution_count": 9,
     "metadata": {},
     "output_type": "execute_result"
    }
   ],
   "source": [
    "qa_bert_pipeline(context=CONVID_ARTICLE_EASY, question='What are the symptoms')"
   ]
  },
  {
   "cell_type": "code",
   "execution_count": 10,
   "metadata": {},
   "outputs": [
    {
     "data": {
      "text/plain": [
       "{'score': 0.09125602338691152,\n",
       " 'start': 644,\n",
       " 'end': 685,\n",
       " 'answer': 'has yielded few false-positive outcomes.5'}"
      ]
     },
     "execution_count": 10,
     "metadata": {},
     "output_type": "execute_result"
    }
   ],
   "source": [
    "qa_bert_pipeline(context=CONVID_ARTICLE_MEDIUM1, question='does RT-PCR work')"
   ]
  },
  {
   "cell_type": "markdown",
   "metadata": {},
   "source": [
    "## SCIBERT SQUAD2"
   ]
  },
  {
   "cell_type": "code",
   "execution_count": 11,
   "metadata": {},
   "outputs": [
    {
     "data": {
      "text/plain": [
       "{'score': 0.19227549805068556,\n",
       " 'start': 318,\n",
       " 'end': 382,\n",
       " 'answer': 'Common symptoms include fever, cough and shortness of breath.[5]'}"
      ]
     },
     "execution_count": 11,
     "metadata": {},
     "output_type": "execute_result"
    }
   ],
   "source": [
    "qa_scibert_pipeline(context=CONVID_ARTICLE_EASY, question='What are the symptoms')"
   ]
  },
  {
   "cell_type": "code",
   "execution_count": 12,
   "metadata": {},
   "outputs": [
    {
     "data": {
      "text/plain": [
       "{'score': 0.11031799662901776,\n",
       " 'start': 644,\n",
       " 'end': 685,\n",
       " 'answer': 'has yielded few false-positive outcomes.5'}"
      ]
     },
     "execution_count": 12,
     "metadata": {},
     "output_type": "execute_result"
    }
   ],
   "source": [
    "qa_scibert_pipeline(context=CONVID_ARTICLE_MEDIUM1, question='does RT-PCR work')"
   ]
  },
  {
   "cell_type": "markdown",
   "metadata": {},
   "source": [
    "## BIOBERT SQUAD2"
   ]
  },
  {
   "cell_type": "code",
   "execution_count": 13,
   "metadata": {},
   "outputs": [
    {
     "data": {
      "text/plain": [
       "{'score': 0.43403352104110837,\n",
       " 'start': 342,\n",
       " 'end': 382,\n",
       " 'answer': 'fever, cough and shortness of breath.[5]'}"
      ]
     },
     "execution_count": 13,
     "metadata": {},
     "output_type": "execute_result"
    }
   ],
   "source": [
    "qa_biobert_pipeline(context=CONVID_ARTICLE_EASY, question='What are the symptoms')"
   ]
  },
  {
   "cell_type": "code",
   "execution_count": 14,
   "metadata": {},
   "outputs": [
    {
     "data": {
      "text/plain": [
       "{'score': 0.09305680328817711,\n",
       " 'start': 585,\n",
       " 'end': 639,\n",
       " 'answer': 'RT-PCR has been widely deployed in diagnostic virology'}"
      ]
     },
     "execution_count": 14,
     "metadata": {},
     "output_type": "execute_result"
    }
   ],
   "source": [
    "qa_biobert_pipeline(context=CONVID_ARTICLE_MEDIUM1, question='does RT-PCR work')"
   ]
  },
  {
   "cell_type": "markdown",
   "metadata": {},
   "source": [
    "# baseline metrics on SQUAD2:"
   ]
  },
  {
   "cell_type": "markdown",
   "metadata": {},
   "source": [
    "## BERT base uncased SQUAD2"
   ]
  },
  {
   "cell_type": "markdown",
   "metadata": {},
   "source": [
    "#### command:\n",
    "\n",
    "\n",
    "python run_squad.py \\\n",
    "  --model_type bert \\\n",
    "  --model_name_or_path twmkn9/bert-base-uncased-squad2 \\\n",
    "   --version_2_with_negative \\\n",
    "  --do_lower_case \\\n",
    "  --do_eval \\\n",
    "  --predict_file  /data/home/xcs224u_student/notebooks/cs224u/data/squad/dev-v2.0.json\\\n",
    "  --max_seq_length 384 \\\n",
    "  --doc_stride 128 \\\n",
    "  --overwrite_cache \\\n",
    "  --output_dir /data/home/xcs224u_student/notebooks/cs224u/data/squad/pred_outputs/bert"
   ]
  },
  {
   "cell_type": "markdown",
   "metadata": {},
   "source": [
    "{'exact': 72.3658721468879, 'f1': 75.83107045305708, 'total': 11873, 'HasAns_exact': 72.80701754385964, 'HasAns_f1': 79.74735146578041, 'HasAns_total': 5928, 'NoAns_exact': 71.9259882253995, 'NoAns_f1': 71.9259882253995, 'NoAns_total': 5945, 'best_exact': 72.3658721468879, 'best_exact_thresh': 0.0, 'best_f1': 75.8310704530571, 'best_f1_thresh': 0.0}"
   ]
  },
  {
   "cell_type": "markdown",
   "metadata": {},
   "source": [
    "## biobert SQUAD2"
   ]
  },
  {
   "cell_type": "markdown",
   "metadata": {},
   "source": [
    "### command: \n",
    "\n",
    "python run_squad.py \\\n",
    "  --model_type bert \\\n",
    "  --model_name_or_path ktrapeznikov/biobert_v1.1_pubmed_squad_v2 \\\n",
    "  --version_2_with_negative \\\n",
    "  --do_eval \\\n",
    "  --predict_file  /data/home/xcs224u_student/notebooks/cs224u/data/squad/dev-v2.0.json\\\n",
    "  --max_seq_length 384 \\\n",
    "  --doc_stride 128 \\\n",
    "  --overwrite_cache \\\n",
    "  --output_dir /data/home/xcs224u_student/notebooks/cs224u/data/squad/pred_outputs/biobert\n"
   ]
  },
  {
   "cell_type": "markdown",
   "metadata": {},
   "source": [
    "{'exact': 72.72803840646846, 'f1': 76.63571518477706, 'total': 11873, 'HasAns_exact': 69.02834008097166, 'HasAns_f1': 76.85489986316776, 'HasAns_total': 5928, 'NoAns_exact': 76.41715727502103, 'NoAns_f1': 76.41715727502103, 'NoAns_total': 5945, 'best_exact': 72.72803840646846, 'best_exact_thresh': 0.0, 'best_f1': 76.63571518477703, 'best_f1_thresh': 0.0}"
   ]
  },
  {
   "cell_type": "markdown",
   "metadata": {},
   "source": [
    "## scibert SQUAD2"
   ]
  },
  {
   "cell_type": "markdown",
   "metadata": {},
   "source": [
    "### command:\n",
    "python run_squad.py \\\n",
    "  --model_type bert \\\n",
    "  --model_name_or_path ktrapeznikov/scibert_scivocab_uncased_squad_v2 \\\n",
    "  --version_2_with_negative \\\n",
    "  --do_lower_case \\\n",
    "  --do_eval \\\n",
    "  --predict_file  /data/home/xcs224u_student/notebooks/cs224u/data/squad/dev-v2.0.json\\\n",
    "  --max_seq_length 384 \\\n",
    "  --doc_stride 128 \\\n",
    "  --overwrite_cache \\\n",
    "  --output_dir /data/home/xcs224u_student/notebooks/cs224u/data/squad/pred_outputs/scibert\n"
   ]
  },
  {
   "cell_type": "markdown",
   "metadata": {},
   "source": [
    "{'exact': 75.06948538701255, 'f1': 78.48477186884588, 'total': 11873, 'HasAns_exact': 70.73211875843455, 'HasAns_f1': 77.57248589723473, 'HasAns_total': 5928, 'NoAns_exact': 79.39444911690497, 'NoAns_f1': 79.39444911690497, 'NoAns_total': 5945, 'best_exact': 75.07790785816559, 'best_exact_thresh': 0.0, 'best_f1': 78.49319433999901, 'best_f1_thresh': 0.0}"
   ]
  },
  {
   "cell_type": "markdown",
   "metadata": {},
   "source": [
    "# baseline metrics on BIOASQ"
   ]
  },
  {
   "cell_type": "markdown",
   "metadata": {},
   "source": [
    "## BERT base uncased SQUAD2"
   ]
  },
  {
   "cell_type": "markdown",
   "metadata": {},
   "source": [
    "### command: \n",
    "\n",
    "````\n",
    "export TEST_SET_NAME=BioASQ-task8bPhaseB-testset_combined_squad_format.json\n",
    "export DATA_DIRECTORY=/data/home/xcs224u_student/notebooks/cs224u/data/bioasq\n",
    "python run_squad.py \\\n",
    "  --model_type bert \\\n",
    "  --model_name_or_path twmkn9/bert-base-uncased-squad2 \\\n",
    "   --version_2_with_negative \\\n",
    "  --do_lower_case \\\n",
    "  --do_eval \\\n",
    "  --predict_file $DATA_DIRECTORY/BioASQ-test8b/$TEST_SET_NAME\\\n",
    "  --max_seq_length 512 \\\n",
    "  --doc_stride 128 \\\n",
    "  --overwrite_cache \\\n",
    "  --output_dir $DATA_DIRECTORY/pred_outputs/bert \n",
    "  ```"
   ]
  },
  {
   "cell_type": "markdown",
   "metadata": {},
   "source": [
    "### results"
   ]
  },
  {
   "cell_type": "markdown",
   "metadata": {},
   "source": [
    "for test set 1:  \n",
    "{'exact': 0.5561735261401557, 'f1': 14.646659908711294, 'total': 1798, 'HasAns_exact': 0.5561735261401557, 'HasAns_f1': 14.646659908711294, 'HasAns_total': 1798, 'best_exact': 0.5561735261401557, 'best_exact_thresh': 0.0, 'best_f1': 14.646659908711294, 'best_f1_thresh': 0.0}"
   ]
  },
  {
   "cell_type": "markdown",
   "metadata": {},
   "source": [
    "## biobert SQUAD2(this model is cased, so don't lowercase)"
   ]
  },
  {
   "cell_type": "markdown",
   "metadata": {},
   "source": [
    "export TEST_SET_NAME=BioASQ-task8bPhaseB-testset_combined_squad_format.json\n",
    "export DATA_DIRECTORY=/data/home/xcs224u_student/notebooks/cs224u/data/bioasq\n",
    "python run_squad.py \\\n",
    "  --model_type bert \\\n",
    "  --model_name_or_path ktrapeznikov/biobert_v1.1_pubmed_squad_v2 \\\n",
    "   --version_2_with_negative \\\n",
    "  --do_eval \\\n",
    "  --predict_file $DATA_DIRECTORY/BioASQ-test8b/$TEST_SET_NAME\\\n",
    "  --max_seq_length 512 \\\n",
    "  --doc_stride 128 \\\n",
    "  --overwrite_cache \\\n",
    "  --output_dir $DATA_DIRECTORY/pred_outputs/bert "
   ]
  },
  {
   "cell_type": "markdown",
   "metadata": {},
   "source": [
    "### results:"
   ]
  },
  {
   "cell_type": "markdown",
   "metadata": {},
   "source": [
    "{'exact': 0.5561735261401557, 'f1': 15.117790627842101, 'total': 1798, 'HasAns_exact': 0.5561735261401557, 'HasAns_f1': 15.117790627842101, 'HasAns_total': 1798, 'best_exact': 0.5561735261401557, 'best_exact_thresh': 0.0, 'best_f1': 15.117790627842101, 'best_f1_thresh': 0.0"
   ]
  },
  {
   "cell_type": "markdown",
   "metadata": {},
   "source": [
    "\n",
    "## scibert finedtuned on squad2"
   ]
  },
  {
   "cell_type": "markdown",
   "metadata": {},
   "source": [
    "```\n",
    "export TEST_SET_NAME=BioASQ-task8bPhaseB-testset_combined_squad_format.json\n",
    "export DATA_DIRECTORY=/data/home/xcs224u_student/notebooks/cs224u/data/bioasq\n",
    "python run_squad.py \\\n",
    "  --model_type bert \\\n",
    "  --model_name_or_path ktrapeznikov/scibert_scivocab_uncased_squad_v2 \\\n",
    "   --version_2_with_negative \\\n",
    "  --do_lower_case \\\n",
    "  --do_eval \\\n",
    "  --predict_file $DATA_DIRECTORY/BioASQ-test8b/$TEST_SET_NAME\\\n",
    "  --max_seq_length 512 \\\n",
    "  --doc_stride 128 \\\n",
    "  --overwrite_cache \\\n",
    "  --output_dir $DATA_DIRECTORY/pred_outputs/bert \n",
    "```"
   ]
  },
  {
   "cell_type": "markdown",
   "metadata": {},
   "source": [
    "## results:"
   ]
  },
  {
   "cell_type": "code",
   "execution_count": 20,
   "metadata": {},
   "outputs": [
    {
     "data": {
      "text/plain": [
       "{'exact': 0.6117908787541713,\n",
       " 'f1': 17.684117301554952,\n",
       " 'total': 1798,\n",
       " 'HasAns_exact': 0.6117908787541713,\n",
       " 'HasAns_f1': 17.684117301554952,\n",
       " 'HasAns_total': 1798,\n",
       " 'best_exact': 0.6117908787541713,\n",
       " 'best_exact_thresh': 0.0,\n",
       " 'best_f1': 17.684117301554952,\n",
       " 'best_f1_thresh': 0.0}"
      ]
     },
     "execution_count": 20,
     "metadata": {},
     "output_type": "execute_result"
    }
   ],
   "source": [
    "{'exact': 0.6117908787541713, 'f1': 17.684117301554952, 'total': 1798, 'HasAns_exact': 0.6117908787541713, 'HasAns_f1': 17.684117301554952, 'HasAns_total': 1798, 'best_exact': 0.6117908787541713, 'best_exact_thresh': 0.0, 'best_f1': 17.684117301554952, 'best_f1_thresh': 0.0}"
   ]
  },
  {
   "cell_type": "markdown",
   "metadata": {},
   "source": [
    "# Finetuning baseline models"
   ]
  },
  {
   "cell_type": "markdown",
   "metadata": {},
   "source": [
    "## BERT"
   ]
  },
  {
   "cell_type": "markdown",
   "metadata": {},
   "source": [
    "command:\n",
    "\n",
    "```\n",
    "DATA_DIR=/home/xcs224u_student/notebooks/cs224u/data/bioasq\n",
    "OUTPUT_MODEL=/data/home/xcs224u_student/notebooks/cs224u/models/bert_bioasq\n",
    "BASE_MODEL=twmkn9/bert-base-uncased-squad2\n",
    "python run_squad.py \\\n",
    "  --version_2_with_negative \\\n",
    "  --model_type bert \\\n",
    "  --model_name_or_path $BASE_MODEL \\\n",
    "  --output_dir $OUTPUT_MODEL \\\n",
    "  --do_eval \\\n",
    "  --do_lower_case \\\n",
    "  --train_file $DATA_DIR/BioASQ-training8b/training8b_squad_format_3243.json \\\n",
    "  --predict_file $SQUAD_DIR/BioASQ-test8b/BioASQ-task8bPhaseB-testset_combined_squad_format.json \\\n",
    "  --per_gpu_train_batch_size 18 \\\n",
    "  --per_gpu_eval_batch_size 64 \\\n",
    "  --learning_rate 3e-5 \\\n",
    "  --num_train_epochs 3.0 \\\n",
    "  --max_seq_length 384 \\\n",
    "  --doc_stride 128 \\\n",
    "  --save_steps 2000 \\\n",
    "  --threads 24 \\\n",
    "  --warmup_steps 550 \\\n",
    "  --gradient_accumulation_steps 1 \\\n",
    "  --fp16 \\\n",
    "  --logging_steps 50 \\\n",
    "  --do_train\n",
    "\n",
    "\n",
    "```\n"
   ]
  },
  {
   "cell_type": "markdown",
   "metadata": {},
   "source": [
    "### metrics evaluated on bioasq:"
   ]
  },
  {
   "cell_type": "markdown",
   "metadata": {},
   "source": [
    "{'exact': 6.722689075630252, 'f1': 27.284190864183085, 'total': 119, 'HasAns_exact': 6.722689075630252, 'HasAns_f1': 27.284190864183085, 'HasAns_total': 119, 'best_exact': 6.722689075630252, 'best_exact_thresh': 0.0, 'best_f1': 27.284190864183085, 'best_f1_thresh': 0.0}"
   ]
  },
  {
   "cell_type": "markdown",
   "metadata": {},
   "source": [
    "### metrics evaluated on squad2:"
   ]
  },
  {
   "cell_type": "markdown",
   "metadata": {},
   "source": [
    "#### command:\n",
    "\n",
    "\n",
    "```\n",
    "python run_squad.py \\\n",
    "  --model_type bert \\\n",
    "  --model_name_or_path /data/home/xcs224u_student/notebooks/cs224u/models/bert_bioasq \\\n",
    "   --version_2_with_negative \\\n",
    "  --do_lower_case \\\n",
    "  --do_eval \\\n",
    "  --predict_file  /data/home/xcs224u_student/notebooks/cs224u/data/squad/dev-v2.0.json\\\n",
    "  --max_seq_length 384 \\\n",
    "  --doc_stride 128 \\\n",
    "  --overwrite_cache \\\n",
    "  --output_dir /data/home/xcs224u_student/notebooks/cs224u/data/squad/pred_outputs/bert\n",
    "\n",
    "```"
   ]
  },
  {
   "cell_type": "code",
   "execution_count": 23,
   "metadata": {},
   "outputs": [
    {
     "data": {
      "text/plain": [
       "{'exact': 47.645919312726356,\n",
       " 'f1': 57.97726979958083,\n",
       " 'total': 11873,\n",
       " 'HasAns_exact': 34.699730094466936,\n",
       " 'HasAns_f1': 55.39205876019292,\n",
       " 'HasAns_total': 5928,\n",
       " 'NoAns_exact': 60.55508830950379,\n",
       " 'NoAns_f1': 60.55508830950379,\n",
       " 'NoAns_total': 5945,\n",
       " 'best_exact': 50.10528088941295,\n",
       " 'best_exact_thresh': 0.0,\n",
       " 'best_f1': 57.97726979958091,\n",
       " 'best_f1_thresh': 0.0}"
      ]
     },
     "execution_count": 23,
     "metadata": {},
     "output_type": "execute_result"
    }
   ],
   "source": [
    "{'exact': 47.645919312726356, 'f1': 57.97726979958083, 'total': 11873, 'HasAns_exact': 34.699730094466936, 'HasAns_f1': 55.39205876019292, 'HasAns_total': 5928, 'NoAns_exact': 60.55508830950379, 'NoAns_f1': 60.55508830950379, 'NoAns_total': 5945, 'best_exact': 50.10528088941295, 'best_exact_thresh': 0.0, 'best_f1': 57.97726979958091, 'best_f1_thresh': 0.0}"
   ]
  },
  {
   "cell_type": "markdown",
   "metadata": {},
   "source": [
    "## BIOBERT(remember its cased)"
   ]
  },
  {
   "cell_type": "markdown",
   "metadata": {},
   "source": [
    "```\n",
    "DATA_DIR=/home/xcs224u_student/notebooks/cs224u/data/bioasq\n",
    "OUTPUT_MODEL=/data/home/xcs224u_student/notebooks/cs224u/models/biobert_bioasq\n",
    "BASE_MODEL=ktrapeznikov/biobert_v1.1_pubmed_squad_v2\n",
    "python run_squad.py \\\n",
    "  --version_2_with_negative \\\n",
    "  --model_type bert \\\n",
    "  --model_name_or_path $BASE_MODEL \\\n",
    "  --output_dir $OUTPUT_MODEL \\\n",
    "  --do_eval \\\n",
    "  --train_file $DATA_DIR/BioASQ-training8b/training8b_squad_format_3243.json \\\n",
    "  --predict_file $SQUAD_DIR/BioASQ-test8b/BioASQ-task8bPhaseB-testset_combined_squad_format.json \\\n",
    "  --per_gpu_train_batch_size 18 \\\n",
    "  --per_gpu_eval_batch_size 64 \\\n",
    "  --learning_rate 3e-5 \\\n",
    "  --num_train_epochs 3.0 \\\n",
    "  --max_seq_length 384 \\\n",
    "  --doc_stride 128 \\\n",
    "  --save_steps 2000 \\\n",
    "  --threads 24 \\\n",
    "  --warmup_steps 550 \\\n",
    "  --gradient_accumulation_steps 1 \\\n",
    "  --fp16 \\\n",
    "  --logging_steps 50 \\\n",
    "  --do_train\n",
    "```\n"
   ]
  },
  {
   "cell_type": "markdown",
   "metadata": {},
   "source": [
    "### metrics evaluated on bioasq:"
   ]
  },
  {
   "cell_type": "code",
   "execution_count": 26,
   "metadata": {},
   "outputs": [
    {
     "data": {
      "text/plain": [
       "{'exact': 49.54097532215952,\n",
       " 'f1': 58.6892033552341,\n",
       " 'total': 11873,\n",
       " 'HasAns_exact': 13.17476383265857,\n",
       " 'HasAns_f1': 31.497454695798922,\n",
       " 'HasAns_total': 5928,\n",
       " 'NoAns_exact': 85.80319596299411,\n",
       " 'NoAns_f1': 85.80319596299411,\n",
       " 'NoAns_total': 5945,\n",
       " 'best_exact': 50.08001347595385,\n",
       " 'best_exact_thresh': 0.0,\n",
       " 'best_f1': 58.68920335523405,\n",
       " 'best_f1_thresh': 0.0}"
      ]
     },
     "execution_count": 26,
     "metadata": {},
     "output_type": "execute_result"
    }
   ],
   "source": [
    "{'exact': 49.54097532215952, 'f1': 58.6892033552341, 'total': 11873, 'HasAns_exact': 13.17476383265857, 'HasAns_f1': 31.497454695798922, 'HasAns_total': 5928, 'NoAns_exact': 85.80319596299411, 'NoAns_f1': 85.80319596299411, 'NoAns_total': 5945, 'best_exact': 50.08001347595385, 'best_exact_thresh': 0.0, 'best_f1': 58.68920335523405, 'best_f1_thresh': 0.0}"
   ]
  },
  {
   "cell_type": "markdown",
   "metadata": {},
   "source": [
    "### metrics evaluated on squad2"
   ]
  },
  {
   "cell_type": "markdown",
   "metadata": {},
   "source": [
    "#### command:\n",
    "\n",
    "\n",
    "```\n",
    "\n",
    "python run_squad.py \\\n",
    "  --model_type bert \\\n",
    "  --model_name_or_path /data/home/xcs224u_student/notebooks/cs224u/models/biobert_bioasq \\\n",
    "  --version_2_with_negative \\\n",
    "  --do_eval \\\n",
    "  --predict_file  /data/home/xcs224u_student/notebooks/cs224u/data/squad/dev-v2.0.json\\\n",
    "  --max_seq_length 384 \\\n",
    "  --doc_stride 128 \\\n",
    "  --overwrite_cache \\\n",
    "  --output_dir /data/home/xcs224u_student/notebooks/cs224u/data/squad/pred_outputs/biobert_bioasq\n",
    "\n",
    "```\n"
   ]
  },
  {
   "cell_type": "code",
   "execution_count": 27,
   "metadata": {},
   "outputs": [
    {
     "data": {
      "text/plain": [
       "{'exact': 30.71675229512339,\n",
       " 'f1': 44.61452456728827,\n",
       " 'total': 11873,\n",
       " 'HasAns_exact': 12.93859649122807,\n",
       " 'HasAns_f1': 40.773996320414234,\n",
       " 'HasAns_total': 5928,\n",
       " 'NoAns_exact': 48.44407064760303,\n",
       " 'NoAns_f1': 48.44407064760303,\n",
       " 'NoAns_total': 5945,\n",
       " 'best_exact': 50.08843594710688,\n",
       " 'best_exact_thresh': 0.0,\n",
       " 'best_f1': 50.100534893763225,\n",
       " 'best_f1_thresh': 0.0}"
      ]
     },
     "execution_count": 27,
     "metadata": {},
     "output_type": "execute_result"
    }
   ],
   "source": [
    "{'exact': 30.71675229512339, 'f1': 44.61452456728827, 'total': 11873, 'HasAns_exact': 12.93859649122807, 'HasAns_f1': 40.773996320414234, 'HasAns_total': 5928, 'NoAns_exact': 48.44407064760303, 'NoAns_f1': 48.44407064760303, 'NoAns_total': 5945, 'best_exact': 50.08843594710688, 'best_exact_thresh': 0.0, 'best_f1': 50.100534893763225, 'best_f1_thresh': 0.0}"
   ]
  },
  {
   "cell_type": "markdown",
   "metadata": {},
   "source": [
    "## SCIBERT"
   ]
  },
  {
   "cell_type": "markdown",
   "metadata": {},
   "source": [
    "```\n",
    "DATA_DIR=/home/xcs224u_student/notebooks/cs224u/data/bioasq\n",
    "OUTPUT_MODEL=/data/home/xcs224u_student/notebooks/cs224u/models/scibert_bioasq\n",
    "BASE_MODEL=ktrapeznikov/scibert_scivocab_uncased_squad_v2\n",
    "python run_squad.py \\\n",
    "  --version_2_with_negative \\\n",
    "  --model_type bert \\\n",
    "  --model_name_or_path $BASE_MODEL \\\n",
    "  --output_dir $OUTPUT_MODEL \\\n",
    "  --do_eval \\\n",
    "  --do_lower_case \\\n",
    "  --train_file $DATA_DIR/BioASQ-training8b/training8b_squad_format_3243.json \\\n",
    "  --predict_file $SQUAD_DIR/BioASQ-test8b/BioASQ-task8bPhaseB-testset_combined_squad_format.json \\\n",
    "  --per_gpu_train_batch_size 18 \\\n",
    "  --per_gpu_eval_batch_size 64 \\\n",
    "  --learning_rate 3e-5 \\\n",
    "  --num_train_epochs 3.0 \\\n",
    "  --max_seq_length 384 \\\n",
    "  --doc_stride 128 \\\n",
    "  --save_steps 2000 \\\n",
    "  --threads 24 \\\n",
    "  --warmup_steps 550 \\\n",
    "  --gradient_accumulation_steps 1 \\\n",
    "  --fp16 \\\n",
    "  --logging_steps 50 \\\n",
    "  --do_train\n",
    "\n",
    "```\n"
   ]
  },
  {
   "cell_type": "markdown",
   "metadata": {},
   "source": [
    "### metrics evaluated on bioasq"
   ]
  },
  {
   "cell_type": "code",
   "execution_count": null,
   "metadata": {},
   "outputs": [],
   "source": []
  },
  {
   "cell_type": "markdown",
   "metadata": {},
   "source": [
    "### metrics evaluated on squad 2:"
   ]
  },
  {
   "cell_type": "markdown",
   "metadata": {},
   "source": [
    "#### command:\n",
    "\n",
    "\n",
    "```\n",
    "python run_squad.py \\\n",
    "  --model_type bert \\\n",
    "  --model_name_or_path /data/home/xcs224u_student/notebooks/cs224u/models/scibert_bioasq \\\n",
    "   --version_2_with_negative \\\n",
    "  --do_lower_case \\\n",
    "  --do_eval \\\n",
    "  --predict_file  /data/home/xcs224u_student/notebooks/cs224u/data/squad/dev-v2.0.json\\\n",
    "  --max_seq_length 384 \\\n",
    "  --doc_stride 128 \\\n",
    "  --overwrite_cache \\\n",
    "  --output_dir /data/home/xcs224u_student/notebooks/cs224u/data/squad/pred_outputs/scibert_bioasq\n",
    "\n",
    "```"
   ]
  },
  {
   "cell_type": "code",
   "execution_count": null,
   "metadata": {},
   "outputs": [],
   "source": []
  },
  {
   "cell_type": "markdown",
   "metadata": {},
   "source": [
    "# pretrained scibert on covid + squad 2 finetuning"
   ]
  },
  {
   "cell_type": "markdown",
   "metadata": {},
   "source": [
    " "
   ]
  },
  {
   "cell_type": "markdown",
   "metadata": {},
   "source": [
    "## load pretrained model and make predictions"
   ]
  },
  {
   "cell_type": "code",
   "execution_count": 15,
   "metadata": {},
   "outputs": [],
   "source": [
    "SCIBERT_COVID_MODEL = \"/data/home/xcs224u_student/notebooks/cs224u/models/scibert_covid\"\n",
    "qa_scibert_covid_pipeline = pipeline('question-answering', model=SCIBERT_COVID_MODEL, tokenizer=SCIBERT_COVID_MODEL)\n"
   ]
  },
  {
   "cell_type": "code",
   "execution_count": 16,
   "metadata": {},
   "outputs": [
    {
     "data": {
      "text/plain": [
       "{'score': 6.781687463647073e-06,\n",
       " 'start': 1777,\n",
       " 'end': 1838,\n",
       " 'answer': 'and a chest CT scan showing features of pneumonia.Recommended'}"
      ]
     },
     "execution_count": 16,
     "metadata": {},
     "output_type": "execute_result"
    }
   ],
   "source": [
    "qa_scibert_covid_pipeline(context=CONVID_ARTICLE_EASY, question='What are the symptoms')\n"
   ]
  },
  {
   "cell_type": "markdown",
   "metadata": {},
   "source": [
    "### this model doesn't work on QA, need to fine tune it"
   ]
  },
  {
   "cell_type": "markdown",
   "metadata": {},
   "source": [
    "# fine tuning script example on squad 2 "
   ]
  },
  {
   "cell_type": "markdown",
   "metadata": {},
   "source": [
    "### command: "
   ]
  },
  {
   "cell_type": "markdown",
   "metadata": {},
   "source": [
    "```\n",
    "SQUAD_DIR=/data/home/xcs224u_student/notebooks/cs224u/data/squad\n",
    "OUTPUT_MODEL=/data/home/xcs224u_student/notebooks/cs224u/models/scibert_covid_squad\n",
    "BASE_MODEL=/data/home/xcs224u_student/notebooks/cs224u/models/scibert_covid\n",
    "python run_squad.py \\\n",
    "  --version_2_with_negative \\\n",
    "  --model_type bert \\\n",
    "  --model_name_or_path $BASE_MODEL \\\n",
    "  --output_dir $OUTPUT_MODEL \\\n",
    "  --do_eval \\\n",
    "  --do_lower_case \\\n",
    "  --train_file $SQUAD_DIR/train-v2.0.json \\\n",
    "  --predict_file $SQUAD_DIR/dev-v2.0.json \\\n",
    "  --per_gpu_train_batch_size 18 \\\n",
    "  --per_gpu_eval_batch_size 64 \\\n",
    "  --learning_rate 3e-5 \\\n",
    "  --num_train_epochs 3.0 \\\n",
    "  --max_seq_length 384 \\\n",
    "  --doc_stride 128 \\\n",
    "  --save_steps 2000 \\\n",
    "  --threads 24 \\\n",
    "  --warmup_steps 550 \\\n",
    "  --gradient_accumulation_steps 1 \\\n",
    "  --fp16 \\\n",
    "  --logging_steps 50 \\\n",
    "  --do_train\n",
    "\n",
    "```"
   ]
  },
  {
   "cell_type": "markdown",
   "metadata": {},
   "source": [
    "## evaluation on squad 2:"
   ]
  },
  {
   "cell_type": "code",
   "execution_count": 24,
   "metadata": {},
   "outputs": [
    {
     "data": {
      "text/plain": [
       "{'exact': 2.434094163227491,\n",
       " 'f1': 5.139441783251352,\n",
       " 'total': 11873,\n",
       " 'HasAns_exact': 0.45546558704453444,\n",
       " 'HasAns_f1': 5.8739190776895,\n",
       " 'HasAns_total': 5928,\n",
       " 'NoAns_exact': 4.4070647603027755,\n",
       " 'NoAns_f1': 4.4070647603027755,\n",
       " 'NoAns_total': 5945,\n",
       " 'best_exact': 50.07159100480081,\n",
       " 'best_exact_thresh': 0.0,\n",
       " 'best_f1': 50.07159100480081,\n",
       " 'best_f1_thresh': 0.0}"
      ]
     },
     "execution_count": 24,
     "metadata": {},
     "output_type": "execute_result"
    }
   ],
   "source": [
    "{'exact': 2.434094163227491, 'f1': 5.139441783251352, 'total': 11873, 'HasAns_exact': 0.45546558704453444, 'HasAns_f1': 5.8739190776895, 'HasAns_total': 5928, 'NoAns_exact': 4.4070647603027755, 'NoAns_f1': 4.4070647603027755, 'NoAns_total': 5945, 'best_exact': 50.07159100480081, 'best_exact_thresh': 0.0, 'best_f1': 50.07159100480081, 'best_f1_thresh': 0.0}"
   ]
  },
  {
   "cell_type": "markdown",
   "metadata": {},
   "source": [
    "### evaluate scibert-covid-squad model"
   ]
  },
  {
   "cell_type": "code",
   "execution_count": 17,
   "metadata": {},
   "outputs": [],
   "source": [
    "SCIBERT_COVID_SQUAD_MODEL = \"/data/home/xcs224u_student/notebooks/cs224u/models/scibert_covid_squad\"\n",
    "qa_scibert_covid_squad_pipeline = pipeline('question-answering', model=SCIBERT_COVID_SQUAD_MODEL, tokenizer=SCIBERT_COVID_SQUAD_MODEL)\n"
   ]
  },
  {
   "cell_type": "code",
   "execution_count": 18,
   "metadata": {},
   "outputs": [
    {
     "data": {
      "text/plain": [
       "{'score': 6.7816941332781745e-06, 'start': 1542, 'end': 1544, 'answer': 'of'}"
      ]
     },
     "execution_count": 18,
     "metadata": {},
     "output_type": "execute_result"
    }
   ],
   "source": [
    "qa_scibert_covid_squad_pipeline(context=CONVID_ARTICLE_EASY, question='What are the symptoms')\n"
   ]
  },
  {
   "cell_type": "markdown",
   "metadata": {},
   "source": [
    "## since first iteration of finetuning went wrong do it again w a different command:"
   ]
  },
  {
   "cell_type": "markdown",
   "metadata": {},
   "source": [
    "SQUAD_DIR=/data/home/xcs224u_student/notebooks/cs224u/data/squad\n",
    "OUTPUT_MODEL=/data/home/xcs224u_student/notebooks/cs224u/models/scibert_covid_squad_2\n",
    "BASE_MODEL=/data/home/xcs224u_student/notebooks/cs224u/models/scibert_covid\n",
    "python run_squad.py \\\n",
    "  --version_2_with_negative \\\n",
    "  --model_type bert \\\n",
    "  --model_name_or_path $BASE_MODEL \\\n",
    "  --output_dir $OUTPUT_MODEL \\\n",
    "  --do_eval \\\n",
    "  --do_lower_case \\\n",
    "  --train_file $SQUAD_DIR/train-v2.0.json \\\n",
    "  --predict_file $SQUAD_DIR/dev-v2.0.json \\\n",
    "  --per_gpu_train_batch_size 18 \\\n",
    "  --per_gpu_eval_batch_size 64 \\\n",
    "  --learning_rate 3e-5 \\\n",
    "  --num_train_epochs 3.0 \\\n",
    "  --max_seq_length 384 \\\n",
    "  --doc_stride 128 \\\n",
    "  --fp16 \\\n",
    "  --do_train\n",
    "\n",
    "```"
   ]
  },
  {
   "cell_type": "markdown",
   "metadata": {},
   "source": [
    "## metrics on squad2:"
   ]
  },
  {
   "cell_type": "code",
   "execution_count": null,
   "metadata": {},
   "outputs": [],
   "source": []
  }
 ],
 "metadata": {
  "kernelspec": {
   "display_name": "Python 3",
   "language": "python",
   "name": "python3"
  },
  "language_info": {
   "codemirror_mode": {
    "name": "ipython",
    "version": 3
   },
   "file_extension": ".py",
   "mimetype": "text/x-python",
   "name": "python",
   "nbconvert_exporter": "python",
   "pygments_lexer": "ipython3",
   "version": "3.6.5"
  }
 },
 "nbformat": 4,
 "nbformat_minor": 2
}
